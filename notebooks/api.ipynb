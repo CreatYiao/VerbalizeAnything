{
 "cells": [
  {
   "cell_type": "code",
   "execution_count": 5,
   "id": "1f8f6fe6-293d-4935-8ffb-60cee71851c4",
   "metadata": {},
   "outputs": [
    {
     "name": "stdout",
     "output_type": "stream",
     "text": [
      "{\"status_code\": 200, \"request_id\": \"7c9533d8-6e4a-9c4e-b37b-90ed543f2755\", \"code\": \"\", \"message\": \"\", \"output\": {\"text\": null, \"finish_reason\": null, \"choices\": [{\"finish_reason\": \"stop\", \"message\": {\"role\": \"assistant\", \"content\": \"材料：\\n西红柿2个，鸡蛋3个，油适量，盐适量，糖适量，葱花适量\\n\\n做法:\\n\\n1. 西红柿洗净后切成块，鸡蛋打入碗中打散备用。\\n2. 热锅凉油，油热后倒入鸡蛋液，用筷子快速搅拌，炒至半熟后盛出备用。\\n3. 锅中再加少许油，放入西红柿块，中小火慢慢翻煮，让西红柿出汁。\\n4. 西红柿软烂后加入适量的糖，继续翻煮均匀，让糖完全溶解在西红柿汁中。\\n5. 加入炒好的鸡蛋块，轻轻翻煮，让鸡蛋充分吸收西红柿汁的味道。\\n6. 最后调入适量的盐，撒上葱花，翻煮均匀即可出锅。\\n\\n西红柿鸡蛋就做好了，可以根据个人口味适当调整糖和盐的量。这道菜色泽鲜艳，酸甜适口，营养丰富，非常适合日常家庭烹饪。\"}}]}, \"usage\": {\"input_tokens\": 24, \"output_tokens\": 206, \"total_tokens\": 230}}\n"
     ]
    }
   ],
   "source": [
    "from http import HTTPStatus\n",
    "import dashscope\n",
    "\n",
    "dashscope.api_key='sk-c8e61bbacecf4348b17f48812d4b5269'\n",
    "messages = [{'role': 'system', 'content': 'You are a helpful assistant.'},\n",
    "            {'role': 'user', 'content': '如何做西红柿鸡蛋？'}]\n",
    "\n",
    "response = dashscope.Generation.call(\n",
    "    model='qwen-turbo',\n",
    "    messages=messages,\n",
    "    result_format='message',  # set the result to be \"message\" format.\n",
    ")\n",
    "\n",
    "if response.status_code == HTTPStatus.OK:\n",
    "    print(response)\n",
    "else:\n",
    "    print('Request id: %s, Status code: %s, error code: %s, error message: %s' % (\n",
    "        response.request_id, response.status_code,\n",
    "        response.code, response.message\n",
    "    ))"
   ]
  },
  {
   "cell_type": "code",
   "execution_count": 3,
   "id": "115b0b65-8e8c-4d9b-bfe2-1639fe496cf2",
   "metadata": {},
   "outputs": [
    {
     "name": "stdout",
     "output_type": "stream",
     "text": [
      "Collecting dashscope\n",
      "  Downloading dashscope-1.16.0-py3-none-any.whl.metadata (6.7 kB)\n",
      "Requirement already satisfied: aiohttp in d:\\software\\anaconda3\\envs\\pytorch\\lib\\site-packages (from dashscope) (3.9.3)\n",
      "Requirement already satisfied: requests in d:\\software\\anaconda3\\envs\\pytorch\\lib\\site-packages (from dashscope) (2.31.0)\n",
      "Requirement already satisfied: aiosignal>=1.1.2 in d:\\software\\anaconda3\\envs\\pytorch\\lib\\site-packages (from aiohttp->dashscope) (1.3.1)\n",
      "Requirement already satisfied: attrs>=17.3.0 in d:\\software\\anaconda3\\envs\\pytorch\\lib\\site-packages (from aiohttp->dashscope) (23.1.0)\n",
      "Requirement already satisfied: frozenlist>=1.1.1 in d:\\software\\anaconda3\\envs\\pytorch\\lib\\site-packages (from aiohttp->dashscope) (1.4.1)\n",
      "Requirement already satisfied: multidict<7.0,>=4.5 in d:\\software\\anaconda3\\envs\\pytorch\\lib\\site-packages (from aiohttp->dashscope) (6.0.5)\n",
      "Requirement already satisfied: yarl<2.0,>=1.0 in d:\\software\\anaconda3\\envs\\pytorch\\lib\\site-packages (from aiohttp->dashscope) (1.9.4)\n",
      "Requirement already satisfied: async-timeout<5.0,>=4.0 in d:\\software\\anaconda3\\envs\\pytorch\\lib\\site-packages (from aiohttp->dashscope) (4.0.3)\n",
      "Requirement already satisfied: charset-normalizer<4,>=2 in d:\\software\\anaconda3\\envs\\pytorch\\lib\\site-packages (from requests->dashscope) (2.1.1)\n",
      "Requirement already satisfied: idna<4,>=2.5 in d:\\software\\anaconda3\\envs\\pytorch\\lib\\site-packages (from requests->dashscope) (3.4)\n",
      "Requirement already satisfied: urllib3<3,>=1.21.1 in d:\\software\\anaconda3\\envs\\pytorch\\lib\\site-packages (from requests->dashscope) (1.26.13)\n",
      "Requirement already satisfied: certifi>=2017.4.17 in d:\\software\\anaconda3\\envs\\pytorch\\lib\\site-packages (from requests->dashscope) (2022.12.7)\n",
      "Downloading dashscope-1.16.0-py3-none-any.whl (1.2 MB)\n",
      "   ---------------------------------------- 0.0/1.2 MB ? eta -:--:--\n",
      "   - -------------------------------------- 0.0/1.2 MB 653.6 kB/s eta 0:00:02\n",
      "   ---- ----------------------------------- 0.1/1.2 MB 1.4 MB/s eta 0:00:01\n",
      "   ----- ---------------------------------- 0.2/1.2 MB 1.5 MB/s eta 0:00:01\n",
      "   ---------------- ----------------------- 0.5/1.2 MB 2.7 MB/s eta 0:00:01\n",
      "   ----------------- ---------------------- 0.5/1.2 MB 2.8 MB/s eta 0:00:01\n",
      "   ------------------------------------- -- 1.2/1.2 MB 4.1 MB/s eta 0:00:01\n",
      "   ---------------------------------------  1.2/1.2 MB 3.7 MB/s eta 0:00:01\n",
      "   ---------------------------------------- 1.2/1.2 MB 3.2 MB/s eta 0:00:00\n",
      "Installing collected packages: dashscope\n",
      "Successfully installed dashscope-1.16.0\n"
     ]
    }
   ],
   "source": [
    "!pip install dashscope"
   ]
  }
 ],
 "metadata": {
  "kernelspec": {
   "display_name": "Python 3 (ipykernel)",
   "language": "python",
   "name": "python3"
  },
  "language_info": {
   "codemirror_mode": {
    "name": "ipython",
    "version": 3
   },
   "file_extension": ".py",
   "mimetype": "text/x-python",
   "name": "python",
   "nbconvert_exporter": "python",
   "pygments_lexer": "ipython3",
   "version": "3.9.18"
  }
 },
 "nbformat": 4,
 "nbformat_minor": 5
}
