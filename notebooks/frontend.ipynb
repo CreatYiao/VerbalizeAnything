{
 "cells": [
  {
   "cell_type": "code",
   "execution_count": 1,
   "id": "5e876aeb-796b-4d3d-af31-c0a2b5fcd984",
   "metadata": {},
   "outputs": [],
   "source": [
    "import tkinter as tk\n",
    "import cv2\n",
    "from PIL import Image, ImageTk\n",
    "\n",
    "class CameraApp:\n",
    "    def __init__(self, master):\n",
    "        self.master = master\n",
    "        master.title(\"Camera App\")\n",
    "\n",
    "        self.video_source = 0\n",
    "        self.vid = cv2.VideoCapture(self.video_source)\n",
    "\n",
    "        self.canvas = tk.Canvas(master, width=self.vid.get(cv2.CAP_PROP_FRAME_WIDTH), height=self.vid.get(cv2.CAP_PROP_FRAME_HEIGHT))\n",
    "        self.canvas.pack()\n",
    "\n",
    "        self.btn_snapshot = tk.Button(master, text=\"Take Snapshot\", width=20, command=self.snapshot)\n",
    "        self.btn_snapshot.pack(pady=10)\n",
    "\n",
    "        self.update()\n",
    "\n",
    "    def snapshot(self):\n",
    "        ret, frame = self.vid.read()\n",
    "        if ret:\n",
    "            frame_rgb = cv2.cvtColor(frame, cv2.COLOR_BGR2RGB) # 转换颜色通道顺序\n",
    "            frame_rgb2 =frame_rgb[:,:,::-1]\n",
    "            cv2.imwrite(\"snapshot.png\", frame_rgb2)\n",
    "\n",
    "    def update(self):\n",
    "        ret, frame = self.vid.read()\n",
    "        if ret:\n",
    "            frame_rgb = cv2.cvtColor(frame, cv2.COLOR_BGR2RGB) # 转换颜色通道顺序\n",
    "            self.photo = ImageTk.PhotoImage(image=Image.fromarray(frame_rgb))\n",
    "            self.canvas.create_image(0, 0, image=self.photo, anchor=tk.NW)\n",
    "        self.master.after(10, self.update)\n",
    "\n",
    "    def __del__(self):\n",
    "        if self.vid.isOpened():\n",
    "            self.vid.release()\n",
    "\n",
    "def main():\n",
    "    root = tk.Tk()\n",
    "    app = CameraApp(root)\n",
    "    root.mainloop()\n",
    "\n",
    "if __name__ == \"__main__\":\n",
    "    main()\n"
   ]
  },
  {
   "cell_type": "code",
   "execution_count": null,
   "id": "01b4e42f-c673-4e46-b71b-72ab5d8e4714",
   "metadata": {},
   "outputs": [],
   "source": []
  }
 ],
 "metadata": {
  "kernelspec": {
   "display_name": "Python 3 (ipykernel)",
   "language": "python",
   "name": "python3"
  },
  "language_info": {
   "codemirror_mode": {
    "name": "ipython",
    "version": 3
   },
   "file_extension": ".py",
   "mimetype": "text/x-python",
   "name": "python",
   "nbconvert_exporter": "python",
   "pygments_lexer": "ipython3",
   "version": "3.9.18"
  }
 },
 "nbformat": 4,
 "nbformat_minor": 5
}
